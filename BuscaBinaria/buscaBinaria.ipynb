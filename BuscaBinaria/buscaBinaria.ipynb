{
 "cells": [
  {
   "cell_type": "markdown",
   "metadata": {},
   "source": [
    "**Algoritmo de busca binária em pseudo-código de forma iterativa:**\n",
    "\n",
    "Função busca_binaria(lista, elemento):\n",
    "    esquerda = 0\n",
    "    direita = comprimento(lista) - 1\n",
    "\n",
    "    Enquanto esquerda <= direita:\n",
    "        meio = (esquerda + direita) / 2\n",
    "\n",
    "        Se lista[meio] == elemento:\n",
    "            Retorne meio  # Elemento encontrado na posição meio\n",
    "        Se lista[meio] < elemento:\n",
    "            esquerda = meio + 1  # Descartar a metade esquerda\n",
    "        Se lista[meio] > elemento:\n",
    "            direita = meio - 1  # Descartar a metade direita\n",
    "\n",
    "    Retorne -1  # Elemento não encontrado\n",
    "Fim da função\n"
   ]
  },
  {
   "cell_type": "code",
   "execution_count": 33,
   "metadata": {},
   "outputs": [],
   "source": [
    "import pandas as pd\n",
    "import altair as alt\n",
    "import numpy as np\n",
    "import time\n",
    "import random"
   ]
  },
  {
   "cell_type": "code",
   "execution_count": 77,
   "metadata": {},
   "outputs": [
    {
     "name": "stdout",
     "output_type": "stream",
     "text": [
      "O elemento 7 foi encontrado na posição 3.\n"
     ]
    }
   ],
   "source": [
    "#implementação\n",
    "\n",
    "def busca_binaria(lista, elemento):\n",
    "    esquerda, direita = 0, len(lista) - 1\n",
    "\n",
    "    while esquerda <= direita:\n",
    "        meio = (esquerda + direita) // 2\n",
    "\n",
    "        if lista[meio] == elemento:\n",
    "            return meio  # Elemento encontrado na posição meio\n",
    "        elif lista[meio] < elemento:\n",
    "            esquerda = meio + 1  # Descartar a metade esquerda\n",
    "        else:\n",
    "            direita = meio - 1  # Descartar a metade direita\n",
    "\n",
    "    return -1  # Elemento não encontrado\n",
    "\n",
    "# Exemplo de uso:\n",
    "minha_lista = [1, 3, 5, 7, 9, 11, 13]\n",
    "elemento_procurado = 7\n",
    "resultado = busca_binaria(minha_lista, elemento_procurado)\n",
    "\n",
    "if resultado != -1:\n",
    "    print(f\"O elemento {elemento_procurado} foi encontrado na posição {resultado}.\")\n",
    "else:\n",
    "    print(f\"O elemento {elemento_procurado} não foi encontrado na lista.\")"
   ]
  },
  {
   "cell_type": "code",
   "execution_count": 78,
   "metadata": {},
   "outputs": [
    {
     "name": "stdout",
     "output_type": "stream",
     "text": [
      "O elemento 1.5515832180029698 não foi encontrado na lista.\n",
      "O elemento -1.031082061236185 não foi encontrado na lista.\n",
      "O elemento -0.0571264011963013 não foi encontrado na lista.\n",
      "O elemento 2.8634826520798162 não foi encontrado na lista.\n",
      "O elemento -2.395462014877404 não foi encontrado na lista.\n",
      "O elemento -3.41384667292298 não foi encontrado na lista.\n"
     ]
    }
   ],
   "source": [
    "x = []\n",
    "y = []\n",
    "\n",
    "def execucao(qtd):\n",
    "    aux = np.random.randn((qtd))\n",
    "    aux = sorted(aux)\n",
    "    elemento = random.uniform(aux[0], aux[len(aux)-1])\n",
    "\n",
    "    tempo_inicial = time.time()\n",
    "    resultado = busca_binaria(aux, elemento)\n",
    "    tempo_final = time.time()\n",
    "\n",
    "    if resultado != -1:\n",
    "        print(f\"O elemento {elemento} foi encontrado na posição {resultado}.\")\n",
    "    else:\n",
    "        print(f\"O elemento {elemento} não foi encontrado na lista.\")\n",
    "\n",
    "    x.append(len(aux)) \n",
    "    y.append(tempo_inicial - tempo_final)\n",
    "\n",
    "#100\n",
    "execucao(100)\n",
    "\n",
    "#1000\n",
    "execucao(1000)\n",
    "\n",
    "#10000\n",
    "execucao(10000)\n",
    "\n",
    "#100000\n",
    "execucao(100000)\n",
    "\n",
    "#1000000\n",
    "execucao(100000)\n",
    "\n",
    "#1000000\n",
    "execucao(100000)"
   ]
  },
  {
   "cell_type": "code",
   "execution_count": 79,
   "metadata": {},
   "outputs": [
    {
     "data": {
      "text/html": [
       "\n",
       "<style>\n",
       "  #altair-viz-79fbd71f333748f8be65b415f291cbe2.vega-embed {\n",
       "    width: 100%;\n",
       "    display: flex;\n",
       "  }\n",
       "\n",
       "  #altair-viz-79fbd71f333748f8be65b415f291cbe2.vega-embed details,\n",
       "  #altair-viz-79fbd71f333748f8be65b415f291cbe2.vega-embed details summary {\n",
       "    position: relative;\n",
       "  }\n",
       "</style>\n",
       "<div id=\"altair-viz-79fbd71f333748f8be65b415f291cbe2\"></div>\n",
       "<script type=\"text/javascript\">\n",
       "  var VEGA_DEBUG = (typeof VEGA_DEBUG == \"undefined\") ? {} : VEGA_DEBUG;\n",
       "  (function(spec, embedOpt){\n",
       "    let outputDiv = document.currentScript.previousElementSibling;\n",
       "    if (outputDiv.id !== \"altair-viz-79fbd71f333748f8be65b415f291cbe2\") {\n",
       "      outputDiv = document.getElementById(\"altair-viz-79fbd71f333748f8be65b415f291cbe2\");\n",
       "    }\n",
       "    const paths = {\n",
       "      \"vega\": \"https://cdn.jsdelivr.net/npm/vega@5?noext\",\n",
       "      \"vega-lib\": \"https://cdn.jsdelivr.net/npm/vega-lib?noext\",\n",
       "      \"vega-lite\": \"https://cdn.jsdelivr.net/npm/vega-lite@5.14.1?noext\",\n",
       "      \"vega-embed\": \"https://cdn.jsdelivr.net/npm/vega-embed@6?noext\",\n",
       "    };\n",
       "\n",
       "    function maybeLoadScript(lib, version) {\n",
       "      var key = `${lib.replace(\"-\", \"\")}_version`;\n",
       "      return (VEGA_DEBUG[key] == version) ?\n",
       "        Promise.resolve(paths[lib]) :\n",
       "        new Promise(function(resolve, reject) {\n",
       "          var s = document.createElement('script');\n",
       "          document.getElementsByTagName(\"head\")[0].appendChild(s);\n",
       "          s.async = true;\n",
       "          s.onload = () => {\n",
       "            VEGA_DEBUG[key] = version;\n",
       "            return resolve(paths[lib]);\n",
       "          };\n",
       "          s.onerror = () => reject(`Error loading script: ${paths[lib]}`);\n",
       "          s.src = paths[lib];\n",
       "        });\n",
       "    }\n",
       "\n",
       "    function showError(err) {\n",
       "      outputDiv.innerHTML = `<div class=\"error\" style=\"color:red;\">${err}</div>`;\n",
       "      throw err;\n",
       "    }\n",
       "\n",
       "    function displayChart(vegaEmbed) {\n",
       "      vegaEmbed(outputDiv, spec, embedOpt)\n",
       "        .catch(err => showError(`Javascript Error: ${err.message}<br>This usually means there's a typo in your chart specification. See the javascript console for the full traceback.`));\n",
       "    }\n",
       "\n",
       "    if(typeof define === \"function\" && define.amd) {\n",
       "      requirejs.config({paths});\n",
       "      require([\"vega-embed\"], displayChart, err => showError(`Error loading script: ${err.message}`));\n",
       "    } else {\n",
       "      maybeLoadScript(\"vega\", \"5\")\n",
       "        .then(() => maybeLoadScript(\"vega-lite\", \"5.14.1\"))\n",
       "        .then(() => maybeLoadScript(\"vega-embed\", \"6\"))\n",
       "        .catch(showError)\n",
       "        .then(() => displayChart(vegaEmbed));\n",
       "    }\n",
       "  })({\"config\": {\"view\": {\"continuousWidth\": 300, \"continuousHeight\": 300}}, \"data\": {\"name\": \"data-4cb61ed19c8b6676fca24a8206e4b6e4\"}, \"mark\": {\"type\": \"point\"}, \"encoding\": {\"tooltip\": {\"field\": \"x\", \"type\": \"quantitative\"}, \"x\": {\"field\": \"x\", \"type\": \"quantitative\"}, \"y\": {\"field\": \"y\", \"type\": \"quantitative\"}}, \"$schema\": \"https://vega.github.io/schema/vega-lite/v5.14.1.json\", \"datasets\": {\"data-4cb61ed19c8b6676fca24a8206e4b6e4\": [{\"x\": 100, \"y\": -2.1219253540039062e-05}, {\"x\": 1000, \"y\": -5.4836273193359375e-06}, {\"x\": 10000, \"y\": -1.6689300537109375e-05}, {\"x\": 100000, \"y\": -6.4373016357421875e-06}, {\"x\": 100000, \"y\": -6.198883056640625e-06}, {\"x\": 100000, \"y\": -7.152557373046875e-06}]}}, {\"mode\": \"vega-lite\"});\n",
       "</script>"
      ],
      "text/plain": [
       "alt.Chart(...)"
      ]
     },
     "execution_count": 79,
     "metadata": {},
     "output_type": "execute_result"
    }
   ],
   "source": [
    "data = pd.DataFrame({\n",
    "    'x':x,\n",
    "    'y':y\n",
    "    })\n",
    "grafico_pontos = alt.Chart(data).mark_point().encode(\n",
    "    x='x',\n",
    "    y='y',\n",
    "    tooltip = 'x'\n",
    ")\n",
    "\n",
    "grafico_pontos"
   ]
  }
 ],
 "metadata": {
  "kernelspec": {
   "display_name": "minhaVenv",
   "language": "python",
   "name": "python3"
  },
  "language_info": {
   "codemirror_mode": {
    "name": "ipython",
    "version": 3
   },
   "file_extension": ".py",
   "mimetype": "text/x-python",
   "name": "python",
   "nbconvert_exporter": "python",
   "pygments_lexer": "ipython3",
   "version": "3.8.10"
  },
  "orig_nbformat": 4
 },
 "nbformat": 4,
 "nbformat_minor": 2
}
